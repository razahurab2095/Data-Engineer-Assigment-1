{
 "cells": [
  {
   "cell_type": "code",
   "execution_count": 1,
   "id": "126b862f",
   "metadata": {},
   "outputs": [
    {
     "name": "stdout",
     "output_type": "stream",
     "text": [
      "[0 1 2 3 4 5 6 7 8 9]\n"
     ]
    }
   ],
   "source": [
    "import numpy as np\n",
    "\n",
    "array_1d = np.arange(10)\n",
    "print(array_1d)\n"
   ]
  },
  {
   "cell_type": "code",
   "execution_count": 2,
   "id": "270fed2f",
   "metadata": {},
   "outputs": [
    {
     "name": "stdout",
     "output_type": "stream",
     "text": [
      "Original 1D array:\n",
      "[0 1 2 3 4 5 6 7 8]\n",
      "\n",
      "Reshaped 3x3 matrix:\n",
      "[[0 1 2]\n",
      " [3 4 5]\n",
      " [6 7 8]]\n"
     ]
    }
   ],
   "source": [
    "import numpy as np\n",
    "\n",
    "array_1d = np.arange(9)  # Create a 1D array with values ranging from 0 to 8\n",
    "print(\"Original 1D array:\")\n",
    "print(array_1d)\n",
    "\n",
    "# Reshape the array into a 3x3 matrix\n",
    "array_2d = np.reshape(array_1d, (3, 3))\n",
    "print(\"\\nReshaped 3x3 matrix:\")\n",
    "print(array_2d)\n"
   ]
  },
  {
   "cell_type": "code",
   "execution_count": 3,
   "id": "91ef57c9",
   "metadata": {},
   "outputs": [
    {
     "name": "stdout",
     "output_type": "stream",
     "text": [
      "Element at the second row, second column: 4\n"
     ]
    }
   ],
   "source": [
    "import numpy as np\n",
    "\n",
    "array_1d = np.arange(9)  # Create a 1D array with values ranging from 0 to 8\n",
    "array_2d = np.reshape(array_1d, (3, 3))  # Reshape the array into a 3x3 matrix\n",
    "\n",
    "# Access the element at the second row, second column\n",
    "element = array_2d[1, 1]\n",
    "print(\"Element at the second row, second column:\", element)\n"
   ]
  },
  {
   "cell_type": "code",
   "execution_count": 4,
   "id": "5ef48471",
   "metadata": {},
   "outputs": [
    {
     "name": "stdout",
     "output_type": "stream",
     "text": [
      "Element-wise addition: [5 7 9]\n",
      "Element-wise subtraction: [-3 -3 -3]\n",
      "Element-wise multiplication: [ 4 10 18]\n",
      "Element-wise division: [0.25 0.4  0.5 ]\n"
     ]
    }
   ],
   "source": [
    "import numpy as np\n",
    "\n",
    "array1 = np.array([1, 2, 3])\n",
    "array2 = np.array([4, 5, 6])\n",
    "\n",
    "# Element-wise addition\n",
    "addition_result = array1 + array2\n",
    "print(\"Element-wise addition:\", addition_result)\n",
    "\n",
    "# Element-wise subtraction\n",
    "subtraction_result = array1 - array2\n",
    "print(\"Element-wise subtraction:\", subtraction_result)\n",
    "\n",
    "# Element-wise multiplication\n",
    "multiplication_result = array1 * array2\n",
    "print(\"Element-wise multiplication:\", multiplication_result)\n",
    "\n",
    "# Element-wise division\n",
    "# Note: division by zero will give a warning, but it will still execute.\n",
    "division_result = array1 / array2\n",
    "print(\"Element-wise division:\", division_result)\n"
   ]
  },
  {
   "cell_type": "code",
   "execution_count": 5,
   "id": "11215b5f",
   "metadata": {},
   "outputs": [
    {
     "name": "stdout",
     "output_type": "stream",
     "text": [
      "Sum of the array: 15\n",
      "Mean of the array: 3.0\n",
      "Standard deviation of the array: 1.4142135623730951\n"
     ]
    }
   ],
   "source": [
    "import numpy as np\n",
    "\n",
    "array = np.array([1, 2, 3, 4, 5])\n",
    "\n",
    "# Sum of the array\n",
    "array_sum = np.sum(array)\n",
    "print(\"Sum of the array:\", array_sum)\n",
    "\n",
    "# Mean of the array\n",
    "array_mean = np.mean(array)\n",
    "print(\"Mean of the array:\", array_mean)\n",
    "\n",
    "# Standard deviation of the array\n",
    "array_std = np.std(array)\n",
    "print(\"Standard deviation of the array:\", array_std)\n"
   ]
  },
  {
   "cell_type": "code",
   "execution_count": 6,
   "id": "c4636947",
   "metadata": {},
   "outputs": [
    {
     "name": "stdout",
     "output_type": "stream",
     "text": [
      "Reshaped 2x3 array:\n",
      "[[1 2 3]\n",
      " [4 5 6]]\n"
     ]
    }
   ],
   "source": [
    "import numpy as np\n",
    "\n",
    "array = np.array([1, 2, 3, 4, 5, 6])\n",
    "\n",
    "# Reshape the array into a 2x3 array\n",
    "reshaped_array = np.reshape(array, (2, 3))\n",
    "print(\"Reshaped 2x3 array:\")\n",
    "print(reshaped_array)\n"
   ]
  },
  {
   "cell_type": "code",
   "execution_count": 7,
   "id": "92e26701",
   "metadata": {},
   "outputs": [
    {
     "name": "stdout",
     "output_type": "stream",
     "text": [
      "Random 5x5 array:\n",
      "[[40 19 95 83 42]\n",
      " [68 40 82  2 21]\n",
      " [62 96 85 37 32]\n",
      " [94 24 38 44 72]\n",
      " [37 74 92 10 92]]\n"
     ]
    }
   ],
   "source": [
    "import numpy as np\n",
    "\n",
    "# Create a 5x5 array with random integers between 0 and 100\n",
    "random_array = np.random.randint(0, 100, size=(5, 5))\n",
    "\n",
    "print(\"Random 5x5 array:\")\n",
    "print(random_array)\n"
   ]
  },
  {
   "cell_type": "code",
   "execution_count": 8,
   "id": "c24d8dea",
   "metadata": {},
   "outputs": [
    {
     "name": "stdout",
     "output_type": "stream",
     "text": [
      "Original 5x5 array:\n",
      "[[32 27 27 21 87]\n",
      " [15 33 63 97 46]\n",
      " [79 33  3 52 95]\n",
      " [84  6  7 45 22]\n",
      " [41 36 45 84  5]]\n",
      "\n",
      "Modified 5x5 array with replaced sub-array:\n",
      "[[32 27 27 21 87]\n",
      " [15 99 99 99 46]\n",
      " [79 99 99 99 95]\n",
      " [84 99 99 99 22]\n",
      " [41 36 45 84  5]]\n"
     ]
    }
   ],
   "source": [
    "import numpy as np\n",
    "\n",
    "# Create a 5x5 array with random integers between 0 and 100\n",
    "random_array = np.random.randint(0, 100, size=(5, 5))\n",
    "\n",
    "print(\"Original 5x5 array:\")\n",
    "print(random_array)\n",
    "\n",
    "# Define the indices of the sub-array\n",
    "start_row, end_row = 1, 3  # Row indices of the sub-array\n",
    "start_col, end_col = 1, 3  # Column indices of the sub-array\n",
    "\n",
    "# Define the value to replace\n",
    "replace_value = 99\n",
    "\n",
    "# Replace values in the sub-array with the specified value\n",
    "random_array[start_row:end_row+1, start_col:end_col+1] = replace_value\n",
    "\n",
    "print(\"\\nModified 5x5 array with replaced sub-array:\")\n",
    "print(random_array)\n"
   ]
  },
  {
   "cell_type": "code",
   "execution_count": 9,
   "id": "5c7bf238",
   "metadata": {},
   "outputs": [
    {
     "name": "stdout",
     "output_type": "stream",
     "text": [
      "Extracted subarray:\n",
      "[[3 4]\n",
      " [5 6]]\n"
     ]
    }
   ],
   "source": [
    "import numpy as np\n",
    "\n",
    "# Define the original array\n",
    "original_array = np.array([[1, 2], [3, 4], [5, 6], [7, 8]])\n",
    "\n",
    "# Define the indices of the subarray\n",
    "start_row, end_row = 1, 2  # Row indices of the subarray\n",
    "start_col, end_col = 0, 1  # Column indices of the subarray\n",
    "\n",
    "# Extract the subarray\n",
    "subarray = original_array[start_row:end_row+1, start_col:end_col+1]\n",
    "\n",
    "print(\"Extracted subarray:\")\n",
    "print(subarray)\n"
   ]
  },
  {
   "cell_type": "code",
   "execution_count": 10,
   "id": "1c848ee3",
   "metadata": {},
   "outputs": [
    {
     "name": "stdout",
     "output_type": "stream",
     "text": [
      "2D array with values from 0 to 2:\n",
      "[[0 1 2]\n",
      " [0 1 2]\n",
      " [0 1 2]]\n"
     ]
    }
   ],
   "source": [
    "import numpy as np\n",
    "\n",
    "# Create a 1D array with values from 0 to 2\n",
    "values = np.arange(3)\n",
    "\n",
    "# Create a 2D array by tiling the 1D array\n",
    "array_2d = np.tile(values, (3, 1))\n",
    "\n",
    "print(\"2D array with values from 0 to 2:\")\n",
    "print(array_2d)\n"
   ]
  },
  {
   "cell_type": "code",
   "execution_count": 11,
   "id": "63ed1f56",
   "metadata": {},
   "outputs": [
    {
     "name": "stdout",
     "output_type": "stream",
     "text": [
      "Original 2D array:\n",
      "[[0 1 2]\n",
      " [0 1 2]\n",
      " [0 1 2]]\n",
      "\n",
      "1D array to add to each row:\n",
      "[1 2 3]\n",
      "\n",
      "Result after broadcasting addition:\n",
      "[[1 3 5]\n",
      " [1 3 5]\n",
      " [1 3 5]]\n"
     ]
    }
   ],
   "source": [
    "import numpy as np\n",
    "\n",
    "# Create the 2D array with values from 0 to 2\n",
    "array_2d = np.tile(np.arange(3), (3, 1))\n",
    "\n",
    "# Create the 1D array to add to each row\n",
    "addition_array = np.array([1, 2, 3])\n",
    "\n",
    "# Perform broadcasting addition\n",
    "result = array_2d + addition_array\n",
    "\n",
    "print(\"Original 2D array:\")\n",
    "print(array_2d)\n",
    "\n",
    "print(\"\\n1D array to add to each row:\")\n",
    "print(addition_array)\n",
    "\n",
    "print(\"\\nResult after broadcasting addition:\")\n",
    "print(result)\n"
   ]
  },
  {
   "cell_type": "code",
   "execution_count": 12,
   "id": "19b95fa2",
   "metadata": {},
   "outputs": [
    {
     "name": "stdout",
     "output_type": "stream",
     "text": [
      "First 2D array with random integers:\n",
      "[[57 19  0]\n",
      " [ 0 74 84]\n",
      " [66  5 24]]\n",
      "\n",
      "Second 2D array with random integers:\n",
      "[[21 46 61]\n",
      " [99 19 94]\n",
      " [77 36 84]]\n"
     ]
    }
   ],
   "source": [
    "import numpy as np\n",
    "\n",
    "# Create the first 2D array with random integers\n",
    "array1 = np.random.randint(0, 100, size=(3, 3))\n",
    "\n",
    "# Create the second 2D array with random integers\n",
    "array2 = np.random.randint(0, 100, size=(3, 3))\n",
    "\n",
    "print(\"First 2D array with random integers:\")\n",
    "print(array1)\n",
    "\n",
    "print(\"\\nSecond 2D array with random integers:\")\n",
    "print(array2)\n"
   ]
  },
  {
   "cell_type": "code",
   "execution_count": 13,
   "id": "5a5bd205",
   "metadata": {},
   "outputs": [
    {
     "name": "stdout",
     "output_type": "stream",
     "text": [
      "First 2D array with random integers:\n",
      "[[30 63 76]\n",
      " [49 63 45]\n",
      " [27 23 97]]\n",
      "\n",
      "Second 2D array with random integers:\n",
      "[[24 21 35]\n",
      " [14 29 40]\n",
      " [ 9 32 47]]\n",
      "\n",
      "Concatenated horizontally:\n",
      "[[30 63 76 24 21 35]\n",
      " [49 63 45 14 29 40]\n",
      " [27 23 97  9 32 47]]\n",
      "\n",
      "Concatenated vertically:\n",
      "[[30 63 76]\n",
      " [49 63 45]\n",
      " [27 23 97]\n",
      " [24 21 35]\n",
      " [14 29 40]\n",
      " [ 9 32 47]]\n"
     ]
    }
   ],
   "source": [
    "import numpy as np\n",
    "\n",
    "# Create the first 2D array with random integers\n",
    "array1 = np.random.randint(0, 100, size=(3, 3))\n",
    "\n",
    "# Create the second 2D array with random integers\n",
    "array2 = np.random.randint(0, 100, size=(3, 3))\n",
    "\n",
    "print(\"First 2D array with random integers:\")\n",
    "print(array1)\n",
    "\n",
    "print(\"\\nSecond 2D array with random integers:\")\n",
    "print(array2)\n",
    "\n",
    "# Concatenate arrays horizontally\n",
    "concatenated_horizontal = np.concatenate((array1, array2), axis=1)\n",
    "\n",
    "# Concatenate arrays vertically\n",
    "concatenated_vertical = np.concatenate((array1, array2), axis=0)\n",
    "\n",
    "print(\"\\nConcatenated horizontally:\")\n",
    "print(concatenated_horizontal)\n",
    "\n",
    "print(\"\\nConcatenated vertically:\")\n",
    "print(concatenated_vertical)\n"
   ]
  },
  {
   "cell_type": "code",
   "execution_count": 14,
   "id": "ab2508e5",
   "metadata": {},
   "outputs": [
    {
     "name": "stdout",
     "output_type": "stream",
     "text": [
      "\n",
      "Split horizontally (Array 1):\n",
      "[[30 63 76]\n",
      " [49 63 45]\n",
      " [27 23 97]]\n",
      "\n",
      "Split horizontally (Array 2):\n",
      "[[24 21 35]\n",
      " [14 29 40]\n",
      " [ 9 32 47]]\n"
     ]
    }
   ],
   "source": [
    "# Split concatenated array back into original arrays horizontally\n",
    "split_horizontal_array1 = concatenated_horizontal[:, :3]\n",
    "split_horizontal_array2 = concatenated_horizontal[:, 3:]\n",
    "\n",
    "print(\"\\nSplit horizontally (Array 1):\")\n",
    "print(split_horizontal_array1)\n",
    "\n",
    "print(\"\\nSplit horizontally (Array 2):\")\n",
    "print(split_horizontal_array2)\n"
   ]
  },
  {
   "cell_type": "code",
   "execution_count": 18,
   "id": "f0c89d18",
   "metadata": {},
   "outputs": [
    {
     "name": "stdout",
     "output_type": "stream",
     "text": [
      "\n",
      "Split vertically (Array 1):\n",
      "[[30 63 76]\n",
      " [49 63 45]\n",
      " [27 23 97]]\n",
      "\n",
      "Split vertically (Array 2):\n",
      "[[24 21 35]\n",
      " [14 29 40]\n",
      " [ 9 32 47]]\n"
     ]
    }
   ],
   "source": [
    "# Split concatenated array back into original arrays vertically\n",
    "split_vertical_array1 = concatenated_vertical[:3, :]\n",
    "split_vertical_array2 = concatenated_vertical[3:, :]\n",
    "\n",
    "print(\"\\nSplit vertically (Array 1):\")\n",
    "print(split_vertical_array1)\n",
    "\n",
    "print(\"\\nSplit vertically (Array 2):\")\n",
    "print(split_vertical_array2)\n",
    "\n"
   ]
  },
  {
   "cell_type": "code",
   "execution_count": 19,
   "id": "55e627ea",
   "metadata": {},
   "outputs": [
    {
     "name": "stdout",
     "output_type": "stream",
     "text": [
      "Mode of the array: [1]\n"
     ]
    }
   ],
   "source": [
    "array = [1, 2, 1, 2, 3, 4, 5, 6, 8, 9, 1, 2, 2, 22, 21, 1, 1, 1, 1, 2, 5]\n",
    "\n",
    "# Initialize variables to keep track of the mode and its count\n",
    "max_count = 0\n",
    "mode = []\n",
    "\n",
    "# Loop through the array to count occurrences\n",
    "for num in array:\n",
    "    count = array.count(num)\n",
    "    if count > max_count:\n",
    "        mode = [num]\n",
    "        max_count = count\n",
    "    elif count == max_count and num not in mode:\n",
    "        mode.append(num)\n",
    "\n",
    "print(\"Mode of the array:\", mode)\n"
   ]
  },
  {
   "cell_type": "code",
   "execution_count": null,
   "id": "09305359",
   "metadata": {},
   "outputs": [],
   "source": []
  }
 ],
 "metadata": {
  "kernelspec": {
   "display_name": "Python 3 (ipykernel)",
   "language": "python",
   "name": "python3"
  },
  "language_info": {
   "codemirror_mode": {
    "name": "ipython",
    "version": 3
   },
   "file_extension": ".py",
   "mimetype": "text/x-python",
   "name": "python",
   "nbconvert_exporter": "python",
   "pygments_lexer": "ipython3",
   "version": "3.11.5"
  }
 },
 "nbformat": 4,
 "nbformat_minor": 5
}
